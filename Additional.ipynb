{
  "nbformat": 4,
  "nbformat_minor": 0,
  "metadata": {
    "kernelspec": {
      "display_name": "Python 3",
      "language": "python",
      "name": "python3"
    },
    "language_info": {
      "codemirror_mode": {
        "name": "ipython",
        "version": 3
      },
      "file_extension": ".py",
      "mimetype": "text/x-python",
      "name": "python",
      "nbconvert_exporter": "python",
      "pygments_lexer": "ipython3",
      "version": "3.6.3"
    },
    "colab": {
      "name": "4. Fun with Keypoints.ipynb",
      "provenance": []
    }
  },
  "cells": [
    {
      "cell_type": "code",
      "metadata": {
        "id": "t_AihqBOPVw8",
        "colab_type": "code",
        "colab": {}
      },
      "source": [
        "import matplotlib.image as mpimg\n",
        "import matplotlib.pyplot as plt\n",
        "import numpy as np\n",
        "import pandas as pd\n",
        "import os\n",
        "import cv2"
      ],
      "execution_count": 0,
      "outputs": []
    },
    {
      "cell_type": "code",
      "metadata": {
        "id": "l-9msDHUPVxA",
        "colab_type": "code",
        "colab": {}
      },
      "source": [
        "sunglasses = cv2.imread('images/sunglasses.png', cv2.IMREAD_UNCHANGED)\n",
        "\n",
        "plt.imshow(sunglasses)\n",
        "\n",
        "print('Image shape: ', sunglasses.shape)"
      ],
      "execution_count": 0,
      "outputs": []
    },
    {
      "cell_type": "code",
      "metadata": {
        "id": "CKz3zx-tPVxD",
        "colab_type": "code",
        "colab": {}
      },
      "source": [
        "alpha_channel = sunglasses[:,:,3]\n",
        "print ('The alpha channel looks like this (black pixels = transparent): ')\n",
        "plt.imshow(alpha_channel, cmap='gray')"
      ],
      "execution_count": 0,
      "outputs": []
    },
    {
      "cell_type": "code",
      "metadata": {
        "id": "qw698vg3PVxF",
        "colab_type": "code",
        "colab": {}
      },
      "source": [
        "values = np.where(alpha_channel != 0)\n",
        "print ('The non-zero values of the alpha channel are: ')\n",
        "print (values)"
      ],
      "execution_count": 0,
      "outputs": []
    },
    {
      "cell_type": "code",
      "metadata": {
        "id": "Fi1CGhKTPVxL",
        "colab_type": "code",
        "colab": {}
      },
      "source": [
        "key_pts_frame = pd.read_csv('/data/training_frames_keypoints.csv')\n",
        "\n",
        "print('Number of images: ', key_pts_frame.shape[0])"
      ],
      "execution_count": 0,
      "outputs": []
    },
    {
      "cell_type": "code",
      "metadata": {
        "id": "5_VCNemZPVxP",
        "colab_type": "code",
        "colab": {}
      },
      "source": [
        "def show_keypoints(image, key_pts):\n",
        "    \"\"\"Show image with keypoints\"\"\"\n",
        "    plt.imshow(image)\n",
        "    plt.scatter(key_pts[:, 0], key_pts[:, 1], s=20, marker='.', c='m')\n"
      ],
      "execution_count": 0,
      "outputs": []
    },
    {
      "cell_type": "code",
      "metadata": {
        "id": "snvPrxY4PVxS",
        "colab_type": "code",
        "colab": {}
      },
      "source": [
        "n = 120\n",
        "image_name = key_pts_frame.iloc[n, 0]\n",
        "image = mpimg.imread(os.path.join('/data/training/', image_name))\n",
        "key_pts = key_pts_frame.iloc[n, 1:].as_matrix()\n",
        "key_pts = key_pts.astype('float').reshape(-1, 2)\n",
        "\n",
        "print('Image name: ', image_name)\n",
        "\n",
        "plt.figure(figsize=(5, 5))\n",
        "show_keypoints(image, key_pts)\n",
        "plt.show()"
      ],
      "execution_count": 0,
      "outputs": []
    },
    {
      "cell_type": "code",
      "metadata": {
        "id": "pMqd0psWPVxU",
        "colab_type": "code",
        "colab": {}
      },
      "source": [
        "\n",
        "image_copy = np.copy(image)\n",
        "\n",
        "x = int(key_pts[17, 0])\n",
        "y = int(key_pts[17, 1])\n",
        "\n",
        "h = int(abs(key_pts[27,1] - key_pts[34,1]))\n",
        "w = int(abs(key_pts[17,0] - key_pts[26,0]))\n",
        "\n",
        "sunglasses = cv2.imread('images/sunglasses.png', cv2.IMREAD_UNCHANGED)\n",
        "new_sunglasses =  cv2.resize(sunglasses, (w, h), interpolation = cv2.INTER_CUBIC)\n",
        "\n",
        "roi_color = image_copy[y:y+h,x:x+w]\n",
        "\n",
        "ind = np.argwhere(new_sunglasses[:,:,3] > 0)\n",
        "\n",
        "for i in range(3):\n",
        "    roi_color[ind[:,0],ind[:,1],i] = new_sunglasses[ind[:,0],ind[:,1],i]    \n",
        "image_copy[y:y+h,x:x+w] = roi_color\n",
        "\n",
        "plt.imshow(image_copy)"
      ],
      "execution_count": 0,
      "outputs": []
    }
  ]
}